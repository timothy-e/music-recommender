{
 "metadata": {
  "language_info": {
   "codemirror_mode": {
    "name": "ipython",
    "version": 3
   },
   "file_extension": ".py",
   "mimetype": "text/x-python",
   "name": "python",
   "nbconvert_exporter": "python",
   "pygments_lexer": "ipython3",
   "version": "3.7.3-final"
  },
  "orig_nbformat": 2,
  "kernelspec": {
   "name": "python3",
   "display_name": "Python 3"
  }
 },
 "nbformat": 4,
 "nbformat_minor": 2,
 "cells": [
  {
   "cell_type": "code",
   "execution_count": 1,
   "metadata": {},
   "outputs": [],
   "source": [
    "# library\n",
    "import pandas as pd\n",
    "import numpy as np"
   ]
  },
  {
   "cell_type": "code",
   "execution_count": 2,
   "metadata": {},
   "outputs": [],
   "source": [
    "track_data = pd.read_csv(\"mini_track_data.csv\")"
   ]
  },
  {
   "source": [
    "Need to flatten features that starts with \"segment\" with type object"
   ],
   "cell_type": "markdown",
   "metadata": {}
  },
  {
   "cell_type": "code",
   "execution_count": 3,
   "metadata": {},
   "outputs": [
    {
     "output_type": "execute_result",
     "data": {
      "text/plain": [
       "song_id                             object\n",
       "title                               object\n",
       "artist                              object\n",
       "track_analysis_sample_rate         float64\n",
       "track_loudness                     float64\n",
       "track_tempo                        float64\n",
       "track_tempo_confidence             float64\n",
       "track_time_signature               float64\n",
       "track_time_signature_confidence    float64\n",
       "track_key                          float64\n",
       "track_key_confidence               float64\n",
       "track_mode                         float64\n",
       "track_mode_confidence              float64\n",
       "tatum_duration_median              float64\n",
       "tatum_duration_stdev               float64\n",
       "tatum_duration_variance            float64\n",
       "segment_duration_median            float64\n",
       "segment_duration_stdev             float64\n",
       "segment_duration_variance          float64\n",
       "segment_loudness_max_median        float64\n",
       "segment_loudness_max_stdev         float64\n",
       "segment_loudness_max_variance      float64\n",
       "segment_loudness_start_median      float64\n",
       "segment_loudness_start_stdev       float64\n",
       "segment_loudness_start_variance    float64\n",
       "segment_loudness_end_median        float64\n",
       "segment_loudness_end_stdev         float64\n",
       "segment_loudness_end_variance      float64\n",
       "segment_pitches_median              object\n",
       "segment_pitches_stdev               object\n",
       "segment_pitches_variance            object\n",
       "segment_timbre_median               object\n",
       "segment_timbre_stdev                object\n",
       "segment_timbre_variance             object\n",
       "sections_duration_median           float64\n",
       "sections_duration_stdev            float64\n",
       "sections_duration_variance         float64\n",
       "sections_loudness_median           float64\n",
       "sections_loudness_stdev            float64\n",
       "sections_loudness_variance         float64\n",
       "sections_tempo_median              float64\n",
       "sections_tempo_stdev               float64\n",
       "sections_tempo_variance            float64\n",
       "sections_key_median                float64\n",
       "sections_key_stdev                 float64\n",
       "sections_key_variance              float64\n",
       "section_mode_mean                  float64\n",
       "dtype: object"
      ]
     },
     "metadata": {},
     "execution_count": 3
    }
   ],
   "source": [
    "track_data.dtypes"
   ]
  },
  {
   "source": [
    "Note that for each entry in a particular column that requires flattening, the lenghts are different"
   ],
   "cell_type": "markdown",
   "metadata": {}
  },
  {
   "cell_type": "code",
   "execution_count": 4,
   "metadata": {},
   "outputs": [
    {
     "output_type": "execute_result",
     "data": {
      "text/plain": [
       "110"
      ]
     },
     "metadata": {},
     "execution_count": 4
    }
   ],
   "source": [
    "len(track_data.segment_pitches_median[1])"
   ]
  },
  {
   "cell_type": "code",
   "execution_count": 5,
   "metadata": {},
   "outputs": [
    {
     "output_type": "execute_result",
     "data": {
      "text/plain": [
       "81"
      ]
     },
     "metadata": {},
     "execution_count": 5
    }
   ],
   "source": [
    "len(track_data.segment_pitches_median[2])"
   ]
  },
  {
   "source": [
    "We can either impute missing columns with 0 once we flatten all the arrays into columns, or we only take parts of the values in the segment arrays e.g beginning, middle, end"
   ],
   "cell_type": "markdown",
   "metadata": {}
  },
  {
   "cell_type": "code",
   "execution_count": 35,
   "metadata": {},
   "outputs": [
    {
     "output_type": "execute_result",
     "data": {
      "text/plain": [
       "Index(['track_analysis_sample_rate', 'track_loudness', 'track_tempo',\n",
       "       'track_tempo_confidence', 'track_time_signature',\n",
       "       'track_time_signature_confidence', 'track_key', 'track_key_confidence',\n",
       "       'track_mode', 'track_mode_confidence', 'tatum_duration_median',\n",
       "       'tatum_duration_stdev', 'tatum_duration_variance',\n",
       "       'segment_duration_median', 'segment_duration_stdev',\n",
       "       'segment_duration_variance', 'segment_loudness_max_median',\n",
       "       'segment_loudness_max_stdev', 'segment_loudness_max_variance',\n",
       "       'segment_loudness_start_median', 'segment_loudness_start_stdev',\n",
       "       'segment_loudness_start_variance', 'segment_loudness_end_median',\n",
       "       'segment_loudness_end_stdev', 'segment_loudness_end_variance',\n",
       "       'sections_duration_median', 'sections_duration_stdev',\n",
       "       'sections_duration_variance', 'sections_loudness_median',\n",
       "       'sections_loudness_stdev', 'sections_loudness_variance',\n",
       "       'sections_tempo_median', 'sections_tempo_stdev',\n",
       "       'sections_tempo_variance', 'sections_key_median', 'sections_key_stdev',\n",
       "       'sections_key_variance', 'section_mode_mean'],\n",
       "      dtype='object')"
      ]
     },
     "metadata": {},
     "execution_count": 35
    }
   ],
   "source": [
    "track_data.select_dtypes(include=['number']).columns"
   ]
  },
  {
   "cell_type": "code",
   "execution_count": 36,
   "metadata": {},
   "outputs": [
    {
     "output_type": "execute_result",
     "data": {
      "text/plain": [
       "Index(['song_id', 'title', 'artist', 'track_analysis_sample_rate',\n",
       "       'track_loudness', 'track_tempo', 'track_tempo_confidence',\n",
       "       'track_time_signature', 'track_time_signature_confidence', 'track_key',\n",
       "       'track_key_confidence', 'track_mode', 'track_mode_confidence',\n",
       "       'tatum_duration_median', 'tatum_duration_stdev',\n",
       "       'tatum_duration_variance', 'segment_duration_median',\n",
       "       'segment_duration_stdev', 'segment_duration_variance',\n",
       "       'segment_loudness_max_median', 'segment_loudness_max_stdev',\n",
       "       'segment_loudness_max_variance', 'segment_loudness_start_median',\n",
       "       'segment_loudness_start_stdev', 'segment_loudness_start_variance',\n",
       "       'segment_loudness_end_median', 'segment_loudness_end_stdev',\n",
       "       'segment_loudness_end_variance', 'segment_pitches_median',\n",
       "       'segment_pitches_stdev', 'segment_pitches_variance',\n",
       "       'segment_timbre_median', 'segment_timbre_stdev',\n",
       "       'segment_timbre_variance', 'sections_duration_median',\n",
       "       'sections_duration_stdev', 'sections_duration_variance',\n",
       "       'sections_loudness_median', 'sections_loudness_stdev',\n",
       "       'sections_loudness_variance', 'sections_tempo_median',\n",
       "       'sections_tempo_stdev', 'sections_tempo_variance',\n",
       "       'sections_key_median', 'sections_key_stdev', 'sections_key_variance',\n",
       "       'section_mode_mean'],\n",
       "      dtype='object')"
      ]
     },
     "metadata": {},
     "execution_count": 36
    }
   ],
   "source": [
    "track_data.columns"
   ]
  },
  {
   "cell_type": "code",
   "execution_count": 25,
   "metadata": {},
   "outputs": [],
   "source": [
    "user_song_count = pd.read_csv(\"mini_triplets.csv\")"
   ]
  },
  {
   "cell_type": "code",
   "execution_count": 7,
   "metadata": {},
   "outputs": [
    {
     "output_type": "execute_result",
     "data": {
      "text/plain": [
       "                                    user_id             song_id  play_count\n",
       "0  b80344d063b5ccb3212f76538f3d9e43d87dca9e  SOAPDEY12A81C210A9           1\n",
       "1  b80344d063b5ccb3212f76538f3d9e43d87dca9e  SOBBMDR12A8C13253B           2\n",
       "2  b80344d063b5ccb3212f76538f3d9e43d87dca9e  SOBFNSP12AF72A0E22           1\n",
       "3  b80344d063b5ccb3212f76538f3d9e43d87dca9e  SOBFOVM12A58A7D494           1\n",
       "4  b80344d063b5ccb3212f76538f3d9e43d87dca9e  SOBSUJE12A6D4F8CF5           2"
      ],
      "text/html": "<div>\n<style scoped>\n    .dataframe tbody tr th:only-of-type {\n        vertical-align: middle;\n    }\n\n    .dataframe tbody tr th {\n        vertical-align: top;\n    }\n\n    .dataframe thead th {\n        text-align: right;\n    }\n</style>\n<table border=\"1\" class=\"dataframe\">\n  <thead>\n    <tr style=\"text-align: right;\">\n      <th></th>\n      <th>user_id</th>\n      <th>song_id</th>\n      <th>play_count</th>\n    </tr>\n  </thead>\n  <tbody>\n    <tr>\n      <th>0</th>\n      <td>b80344d063b5ccb3212f76538f3d9e43d87dca9e</td>\n      <td>SOAPDEY12A81C210A9</td>\n      <td>1</td>\n    </tr>\n    <tr>\n      <th>1</th>\n      <td>b80344d063b5ccb3212f76538f3d9e43d87dca9e</td>\n      <td>SOBBMDR12A8C13253B</td>\n      <td>2</td>\n    </tr>\n    <tr>\n      <th>2</th>\n      <td>b80344d063b5ccb3212f76538f3d9e43d87dca9e</td>\n      <td>SOBFNSP12AF72A0E22</td>\n      <td>1</td>\n    </tr>\n    <tr>\n      <th>3</th>\n      <td>b80344d063b5ccb3212f76538f3d9e43d87dca9e</td>\n      <td>SOBFOVM12A58A7D494</td>\n      <td>1</td>\n    </tr>\n    <tr>\n      <th>4</th>\n      <td>b80344d063b5ccb3212f76538f3d9e43d87dca9e</td>\n      <td>SOBSUJE12A6D4F8CF5</td>\n      <td>2</td>\n    </tr>\n  </tbody>\n</table>\n</div>"
     },
     "metadata": {},
     "execution_count": 7
    }
   ],
   "source": [
    "user_song_count.head(5)"
   ]
  },
  {
   "source": [
    "Calculate the median play count for each user"
   ],
   "cell_type": "markdown",
   "metadata": {}
  },
  {
   "cell_type": "code",
   "execution_count": 16,
   "metadata": {},
   "outputs": [
    {
     "output_type": "execute_result",
     "data": {
      "text/plain": [
       "                                          play_count\n",
       "user_id                                             \n",
       "85c1f87fea955d09b4bec2e36aee110927aedf9a           2\n",
       "b80344d063b5ccb3212f76538f3d9e43d87dca9e           1"
      ],
      "text/html": "<div>\n<style scoped>\n    .dataframe tbody tr th:only-of-type {\n        vertical-align: middle;\n    }\n\n    .dataframe tbody tr th {\n        vertical-align: top;\n    }\n\n    .dataframe thead th {\n        text-align: right;\n    }\n</style>\n<table border=\"1\" class=\"dataframe\">\n  <thead>\n    <tr style=\"text-align: right;\">\n      <th></th>\n      <th>play_count</th>\n    </tr>\n    <tr>\n      <th>user_id</th>\n      <th></th>\n    </tr>\n  </thead>\n  <tbody>\n    <tr>\n      <th>85c1f87fea955d09b4bec2e36aee110927aedf9a</th>\n      <td>2</td>\n    </tr>\n    <tr>\n      <th>b80344d063b5ccb3212f76538f3d9e43d87dca9e</th>\n      <td>1</td>\n    </tr>\n  </tbody>\n</table>\n</div>"
     },
     "metadata": {},
     "execution_count": 16
    }
   ],
   "source": [
    "user_song_count.groupby(by=[\"user_id\"])[[\"play_count\"]].median()"
   ]
  },
  {
   "cell_type": "code",
   "execution_count": 37,
   "metadata": {},
   "outputs": [
    {
     "output_type": "execute_result",
     "data": {
      "text/plain": [
       "Index(['85c1f87fea955d09b4bec2e36aee110927aedf9a', 'b80344d063b5ccb3212f76538f3d9e43d87dca9e'], dtype='object', name='user_id')"
      ]
     },
     "metadata": {},
     "execution_count": 37
    }
   ],
   "source": [
    "user_song_count.groupby(by=[\"user_id\"])[[\"play_count\"]].median().index"
   ]
  },
  {
   "source": [
    "Get songs that has play count that is greater than or equal to the play count"
   ],
   "cell_type": "markdown",
   "metadata": {}
  },
  {
   "cell_type": "code",
   "execution_count": 28,
   "metadata": {},
   "outputs": [
    {
     "output_type": "execute_result",
     "data": {
      "text/plain": [
       "               song_id\n",
       "1   SOBBMDR12A8C13253B\n",
       "4   SOBSUJE12A6D4F8CF5\n",
       "11  SODDNQT12A6D4F5F7E\n",
       "27  SOIZAZL12A6701C53B\n",
       "31  SOKRIMP12A6D4F5DA3\n",
       "39  SOMGIYR12AB0187973\n",
       "42  SOMZWUW12A8C1400BC\n",
       "43  SONKSNV12A58A7F654\n",
       "48  SOOCURD12A81C21C23\n",
       "67  SORZASF12A6D4F8CFA\n",
       "75  SOUHNSN12A8C13C1A4"
      ],
      "text/html": "<div>\n<style scoped>\n    .dataframe tbody tr th:only-of-type {\n        vertical-align: middle;\n    }\n\n    .dataframe tbody tr th {\n        vertical-align: top;\n    }\n\n    .dataframe thead th {\n        text-align: right;\n    }\n</style>\n<table border=\"1\" class=\"dataframe\">\n  <thead>\n    <tr style=\"text-align: right;\">\n      <th></th>\n      <th>song_id</th>\n    </tr>\n  </thead>\n  <tbody>\n    <tr>\n      <th>1</th>\n      <td>SOBBMDR12A8C13253B</td>\n    </tr>\n    <tr>\n      <th>4</th>\n      <td>SOBSUJE12A6D4F8CF5</td>\n    </tr>\n    <tr>\n      <th>11</th>\n      <td>SODDNQT12A6D4F5F7E</td>\n    </tr>\n    <tr>\n      <th>27</th>\n      <td>SOIZAZL12A6701C53B</td>\n    </tr>\n    <tr>\n      <th>31</th>\n      <td>SOKRIMP12A6D4F5DA3</td>\n    </tr>\n    <tr>\n      <th>39</th>\n      <td>SOMGIYR12AB0187973</td>\n    </tr>\n    <tr>\n      <th>42</th>\n      <td>SOMZWUW12A8C1400BC</td>\n    </tr>\n    <tr>\n      <th>43</th>\n      <td>SONKSNV12A58A7F654</td>\n    </tr>\n    <tr>\n      <th>48</th>\n      <td>SOOCURD12A81C21C23</td>\n    </tr>\n    <tr>\n      <th>67</th>\n      <td>SORZASF12A6D4F8CFA</td>\n    </tr>\n    <tr>\n      <th>75</th>\n      <td>SOUHNSN12A8C13C1A4</td>\n    </tr>\n  </tbody>\n</table>\n</div>"
     },
     "metadata": {},
     "execution_count": 28
    }
   ],
   "source": [
    "filtered_songid = user_song_count.loc[((user_song_count.user_id == \"b80344d063b5ccb3212f76538f3d9e43d87dca9e\") & (user_song_count.play_count >= 2)), ['song_id']]\n",
    "filtered_songid"
   ]
  },
  {
   "source": [
    "Join Data. Retain only rows in both dataframe"
   ],
   "cell_type": "markdown",
   "metadata": {}
  },
  {
   "cell_type": "code",
   "execution_count": 33,
   "metadata": {},
   "outputs": [
    {
     "output_type": "execute_result",
     "data": {
      "text/plain": [
       "              song_id                                title           artist  \\\n",
       "0  SOGPCJI12A8C13CCA0                               N Gana  Waldemar Bastos   \n",
       "1  SOSDCFG12AB0184647                                  006  Lena Philipsson   \n",
       "2  SOBARPM12A8C133DFF  (Looking For) The Heart Of Saturday     Shawn Colvin   \n",
       "\n",
       "   track_analysis_sample_rate  track_loudness  track_tempo  \\\n",
       "0                     22050.0         -14.881      110.968   \n",
       "1                     22050.0          -8.802      122.323   \n",
       "2                     22050.0         -13.661       99.394   \n",
       "\n",
       "   track_tempo_confidence  track_time_signature  \\\n",
       "0                   0.574                   4.0   \n",
       "1                   0.943                   4.0   \n",
       "2                   0.453                   4.0   \n",
       "\n",
       "   track_time_signature_confidence  track_key  ...  sections_loudness_median  \\\n",
       "0                              1.0        2.0  ...                   -16.238   \n",
       "1                              1.0        9.0  ...                    -9.263   \n",
       "2                              1.0       11.0  ...                   -14.907   \n",
       "\n",
       "   sections_loudness_stdev  sections_loudness_variance  sections_tempo_median  \\\n",
       "0                 7.891086                   62.269246               111.0265   \n",
       "1                 1.453357                    2.112246               122.3145   \n",
       "2                 4.753758                   22.598212               100.0850   \n",
       "\n",
       "   sections_tempo_stdev  sections_tempo_variance  sections_key_median  \\\n",
       "0              0.817286                 0.667957                  2.0   \n",
       "1              0.107100                 0.011470                  9.0   \n",
       "2              1.151953                 1.326996                  6.0   \n",
       "\n",
       "   sections_key_stdev  sections_key_variance  section_mode_mean  \n",
       "0            1.157868               1.340659           0.857143  \n",
       "1            2.530039               6.401099           0.428571  \n",
       "2            2.676497               7.163636           0.818182  \n",
       "\n",
       "[3 rows x 47 columns]"
      ],
      "text/html": "<div>\n<style scoped>\n    .dataframe tbody tr th:only-of-type {\n        vertical-align: middle;\n    }\n\n    .dataframe tbody tr th {\n        vertical-align: top;\n    }\n\n    .dataframe thead th {\n        text-align: right;\n    }\n</style>\n<table border=\"1\" class=\"dataframe\">\n  <thead>\n    <tr style=\"text-align: right;\">\n      <th></th>\n      <th>song_id</th>\n      <th>title</th>\n      <th>artist</th>\n      <th>track_analysis_sample_rate</th>\n      <th>track_loudness</th>\n      <th>track_tempo</th>\n      <th>track_tempo_confidence</th>\n      <th>track_time_signature</th>\n      <th>track_time_signature_confidence</th>\n      <th>track_key</th>\n      <th>...</th>\n      <th>sections_loudness_median</th>\n      <th>sections_loudness_stdev</th>\n      <th>sections_loudness_variance</th>\n      <th>sections_tempo_median</th>\n      <th>sections_tempo_stdev</th>\n      <th>sections_tempo_variance</th>\n      <th>sections_key_median</th>\n      <th>sections_key_stdev</th>\n      <th>sections_key_variance</th>\n      <th>section_mode_mean</th>\n    </tr>\n  </thead>\n  <tbody>\n    <tr>\n      <th>0</th>\n      <td>SOGPCJI12A8C13CCA0</td>\n      <td>N Gana</td>\n      <td>Waldemar Bastos</td>\n      <td>22050.0</td>\n      <td>-14.881</td>\n      <td>110.968</td>\n      <td>0.574</td>\n      <td>4.0</td>\n      <td>1.0</td>\n      <td>2.0</td>\n      <td>...</td>\n      <td>-16.238</td>\n      <td>7.891086</td>\n      <td>62.269246</td>\n      <td>111.0265</td>\n      <td>0.817286</td>\n      <td>0.667957</td>\n      <td>2.0</td>\n      <td>1.157868</td>\n      <td>1.340659</td>\n      <td>0.857143</td>\n    </tr>\n    <tr>\n      <th>1</th>\n      <td>SOSDCFG12AB0184647</td>\n      <td>006</td>\n      <td>Lena Philipsson</td>\n      <td>22050.0</td>\n      <td>-8.802</td>\n      <td>122.323</td>\n      <td>0.943</td>\n      <td>4.0</td>\n      <td>1.0</td>\n      <td>9.0</td>\n      <td>...</td>\n      <td>-9.263</td>\n      <td>1.453357</td>\n      <td>2.112246</td>\n      <td>122.3145</td>\n      <td>0.107100</td>\n      <td>0.011470</td>\n      <td>9.0</td>\n      <td>2.530039</td>\n      <td>6.401099</td>\n      <td>0.428571</td>\n    </tr>\n    <tr>\n      <th>2</th>\n      <td>SOBARPM12A8C133DFF</td>\n      <td>(Looking For) The Heart Of Saturday</td>\n      <td>Shawn Colvin</td>\n      <td>22050.0</td>\n      <td>-13.661</td>\n      <td>99.394</td>\n      <td>0.453</td>\n      <td>4.0</td>\n      <td>1.0</td>\n      <td>11.0</td>\n      <td>...</td>\n      <td>-14.907</td>\n      <td>4.753758</td>\n      <td>22.598212</td>\n      <td>100.0850</td>\n      <td>1.151953</td>\n      <td>1.326996</td>\n      <td>6.0</td>\n      <td>2.676497</td>\n      <td>7.163636</td>\n      <td>0.818182</td>\n    </tr>\n  </tbody>\n</table>\n<p>3 rows × 47 columns</p>\n</div>"
     },
     "metadata": {},
     "execution_count": 33
    }
   ],
   "source": [
    "pd.merge(track_data, pd.DataFrame({\"song_id\" : [\"SOGPCJI12A8C13CCA0\", \"SOSDCFG12AB0184647\", \"SOBARPM12A8C133DFF\"]}), how='inner', on=\"song_id\")"
   ]
  },
  {
   "source": [
    "Compute column wise mean of the dataframe"
   ],
   "cell_type": "markdown",
   "metadata": {}
  },
  {
   "cell_type": "code",
   "execution_count": 10,
   "metadata": {},
   "outputs": [
    {
     "output_type": "execute_result",
     "data": {
      "text/plain": [
       "Index(['song_id', 'title', 'artist', 'track_analysis_sample_rate',\n",
       "       'track_loudness', 'track_tempo', 'track_tempo_confidence',\n",
       "       'track_time_signature', 'track_time_signature_confidence', 'track_key',\n",
       "       'track_key_confidence', 'track_mode', 'track_mode_confidence',\n",
       "       'tatum_duration_median', 'tatum_duration_stdev',\n",
       "       'tatum_duration_variance', 'segment_duration_median',\n",
       "       'segment_duration_stdev', 'segment_duration_variance',\n",
       "       'segment_loudness_max_median', 'segment_loudness_max_stdev',\n",
       "       'segment_loudness_max_variance', 'segment_loudness_start_median',\n",
       "       'segment_loudness_start_stdev', 'segment_loudness_start_variance',\n",
       "       'segment_loudness_end_median', 'segment_loudness_end_stdev',\n",
       "       'segment_loudness_end_variance', 'segment_pitches_median',\n",
       "       'segment_pitches_stdev', 'segment_pitches_variance',\n",
       "       'segment_timbre_median', 'segment_timbre_stdev',\n",
       "       'segment_timbre_variance', 'sections_duration_median',\n",
       "       'sections_duration_stdev', 'sections_duration_variance',\n",
       "       'sections_loudness_median', 'sections_loudness_stdev',\n",
       "       'sections_loudness_variance', 'sections_tempo_median',\n",
       "       'sections_tempo_stdev', 'sections_tempo_variance',\n",
       "       'sections_key_median', 'sections_key_stdev', 'sections_key_variance',\n",
       "       'section_mode_mean'],\n",
       "      dtype='object')"
      ]
     },
     "metadata": {},
     "execution_count": 10
    }
   ],
   "source": [
    "track_data.columns"
   ]
  },
  {
   "cell_type": "code",
   "execution_count": 52,
   "metadata": {},
   "outputs": [
    {
     "output_type": "execute_result",
     "data": {
      "text/plain": [
       "track_analysis_sample_rate         22050.000000\n",
       "track_loudness                        -9.284545\n",
       "track_tempo                          121.297747\n",
       "track_tempo_confidence                 0.448141\n",
       "track_time_signature                   3.909091\n",
       "track_time_signature_confidence        0.882939\n",
       "track_key                              5.888889\n",
       "track_key_confidence                   0.473727\n",
       "track_mode                             0.676768\n",
       "track_mode_confidence                  0.488495\n",
       "tatum_duration_median                  0.271041\n",
       "tatum_duration_stdev                   0.026490\n",
       "tatum_duration_variance                0.002369\n",
       "segment_duration_median                0.245764\n",
       "segment_duration_stdev                 0.211058\n",
       "segment_duration_variance              0.057251\n",
       "segment_loudness_max_median           -9.224242\n",
       "segment_loudness_max_stdev             5.612986\n",
       "segment_loudness_max_variance         34.581160\n",
       "segment_loudness_start_median        -17.083662\n",
       "segment_loudness_start_stdev           6.833731\n",
       "segment_loudness_start_variance       49.741372\n",
       "segment_loudness_end_median            0.000000\n",
       "segment_loudness_end_stdev             2.078093\n",
       "segment_loudness_end_variance          4.814597\n",
       "sections_duration_median              20.220386\n",
       "sections_duration_stdev               14.174450\n",
       "sections_duration_variance           241.158217\n",
       "sections_loudness_median              -9.890571\n",
       "sections_loudness_stdev                5.279587\n",
       "sections_loudness_variance            40.744358\n",
       "sections_tempo_median                121.448232\n",
       "sections_tempo_stdev                   6.631411\n",
       "sections_tempo_variance              177.722279\n",
       "sections_key_median                    4.974747\n",
       "sections_key_stdev                     3.161058\n",
       "sections_key_variance                 11.004049\n",
       "section_mode_mean                      0.691732\n",
       "dtype: float64"
      ]
     },
     "metadata": {},
     "execution_count": 52
    }
   ],
   "source": [
    "track_data.mean(axis=0)"
   ]
  },
  {
   "source": [
    "Convert to numpy matrix"
   ],
   "cell_type": "markdown",
   "metadata": {}
  },
  {
   "cell_type": "code",
   "execution_count": 50,
   "metadata": {},
   "outputs": [
    {
     "output_type": "execute_result",
     "data": {
      "text/plain": [
       "array([['SOGPCJI12A8C13CCA0', 'N Gana', 'Waldemar Bastos', 22050.0,\n",
       "        -14.880999999999998, 110.96799999999999, 0.574, 4.0, 1.0, 2.0,\n",
       "        0.5870000000000001, 1.0, 0.594, 0.27015, 0.003199596431373001,\n",
       "        1.0237417323654843e-05, 0.21816, 0.17368628103104208,\n",
       "        0.03016692421839413, -18.558, 6.674010780902157,\n",
       "        44.542419903598244, -25.861, 5.740465090210407,\n",
       "        32.95293945192435, 0.0, 1.7422437124171228, 3.0354131534569984,\n",
       "        '[0.147, 0.3485, 0.326, 0.1165, 0.1095, 0.124, 0.257, 0.185, 0.209, 0.6145, 0.2215, 0.1965]',\n",
       "        '[0.20340015602785075, 0.31740060311193713, 0.3592933242805139, 0.17705085735270035, 0.2383541628564446, 0.17084315481085824, 0.30808279770518043, 0.2771238332810795, 0.22223365553703567, 0.3487227581304726, 0.20490418465424876, 0.3060901933104442]',\n",
       "        '[0.041371623472154034, 0.10074314285582144, 0.12909169287254252, 0.031347006089326244, 0.05681270695099651, 0.02918738354572687, 0.09491501024185113, 0.07679761897239952, 0.04938779765335383, 0.1216075620381241, 0.041985724888822476, 0.0936912064408251]',\n",
       "        '[38.075500000000005, 14.648499999999999, -65.561, -30.3905, 31.6475, -26.463, -22.140500000000003, -8.258, -0.6665, 7.391500000000001, -10.9315, 10.3975]',\n",
       "        '[5.884888013622999, 33.1477666182711, 34.704042113923926, 37.34095676477151, 22.191223614853122, 29.79262869705446, 23.559900027260735, 22.232856172107603, 18.39058658834351, 16.796290193645248, 15.36138503136673, 15.677272274885803]',\n",
       "        '[34.631906932883645, 1098.7744317793677, 1204.3705390450054, 1394.3470521085355, 492.4504055244149, 887.600724680553, 555.0688892945204, 494.2998935696231, 338.21367506336014, 282.1153642691435, 235.9721500818978, 245.77686598090307]',\n",
       "        17.32713, 10.320362959963193, 106.5098916253802, -16.238,\n",
       "        7.891086486635437, 62.26924593956044, 111.0265,\n",
       "        0.8172863332697134, 0.6679569505494529, 2.0, 1.1578684470436789,\n",
       "        1.3406593406593406, 0.8571428571428571]], dtype=object)"
      ]
     },
     "metadata": {},
     "execution_count": 50
    }
   ],
   "source": [
    "(track_data.head(1)\n",
    "           .to_numpy())"
   ]
  },
  {
   "source": [],
   "cell_type": "markdown",
   "metadata": {}
  },
  {
   "cell_type": "code",
   "execution_count": 60,
   "metadata": {},
   "outputs": [
    {
     "output_type": "execute_result",
     "data": {
      "text/plain": [
       "Index(['track_analysis_sample_rate', 'track_loudness', 'track_tempo',\n",
       "       'track_tempo_confidence', 'track_time_signature',\n",
       "       'track_time_signature_confidence', 'track_key', 'track_key_confidence',\n",
       "       'track_mode', 'track_mode_confidence', 'tatum_duration_median',\n",
       "       'tatum_duration_stdev', 'tatum_duration_variance',\n",
       "       'segment_duration_median', 'segment_duration_stdev',\n",
       "       'segment_duration_variance', 'segment_loudness_max_median',\n",
       "       'segment_loudness_max_stdev', 'segment_loudness_max_variance',\n",
       "       'segment_loudness_start_median', 'segment_loudness_start_stdev',\n",
       "       'segment_loudness_start_variance', 'segment_loudness_end_median',\n",
       "       'segment_loudness_end_stdev', 'segment_loudness_end_variance',\n",
       "       'sections_duration_median', 'sections_duration_stdev',\n",
       "       'sections_duration_variance', 'sections_loudness_median',\n",
       "       'sections_loudness_stdev', 'sections_loudness_variance',\n",
       "       'sections_tempo_median', 'sections_tempo_stdev',\n",
       "       'sections_tempo_variance', 'sections_key_median', 'sections_key_stdev',\n",
       "       'sections_key_variance', 'section_mode_mean'],\n",
       "      dtype='object')"
      ]
     },
     "metadata": {},
     "execution_count": 60
    }
   ],
   "source": [
    "track_data.mean(axis=0).axes[0]"
   ]
  },
  {
   "cell_type": "code",
   "execution_count": 63,
   "metadata": {},
   "outputs": [
    {
     "output_type": "execute_result",
     "data": {
      "text/plain": [
       "Empty DataFrame\n",
       "Columns: [track_analysis_sample_rate, track_loudness, track_tempo, track_tempo_confidence, track_time_signature, track_time_signature_confidence, track_key, track_key_confidence, track_mode, track_mode_confidence, tatum_duration_median, tatum_duration_stdev, tatum_duration_variance, segment_duration_median, segment_duration_stdev, segment_duration_variance, segment_loudness_max_median, segment_loudness_max_stdev, segment_loudness_max_variance, segment_loudness_start_median, segment_loudness_start_stdev, segment_loudness_start_variance, segment_loudness_end_median, segment_loudness_end_stdev, segment_loudness_end_variance, sections_duration_median, sections_duration_stdev, sections_duration_variance, sections_loudness_median, sections_loudness_stdev, sections_loudness_variance, sections_tempo_median, sections_tempo_stdev, sections_tempo_variance, sections_key_median, sections_key_stdev, sections_key_variance, section_mode_mean]\n",
       "Index: []\n",
       "\n",
       "[0 rows x 38 columns]"
      ],
      "text/html": "<div>\n<style scoped>\n    .dataframe tbody tr th:only-of-type {\n        vertical-align: middle;\n    }\n\n    .dataframe tbody tr th {\n        vertical-align: top;\n    }\n\n    .dataframe thead th {\n        text-align: right;\n    }\n</style>\n<table border=\"1\" class=\"dataframe\">\n  <thead>\n    <tr style=\"text-align: right;\">\n      <th></th>\n      <th>track_analysis_sample_rate</th>\n      <th>track_loudness</th>\n      <th>track_tempo</th>\n      <th>track_tempo_confidence</th>\n      <th>track_time_signature</th>\n      <th>track_time_signature_confidence</th>\n      <th>track_key</th>\n      <th>track_key_confidence</th>\n      <th>track_mode</th>\n      <th>track_mode_confidence</th>\n      <th>...</th>\n      <th>sections_loudness_median</th>\n      <th>sections_loudness_stdev</th>\n      <th>sections_loudness_variance</th>\n      <th>sections_tempo_median</th>\n      <th>sections_tempo_stdev</th>\n      <th>sections_tempo_variance</th>\n      <th>sections_key_median</th>\n      <th>sections_key_stdev</th>\n      <th>sections_key_variance</th>\n      <th>section_mode_mean</th>\n    </tr>\n  </thead>\n  <tbody>\n  </tbody>\n</table>\n<p>0 rows × 38 columns</p>\n</div>"
     },
     "metadata": {},
     "execution_count": 63
    }
   ],
   "source": [
    "user_vec = pd.DataFrame(columns=track_data.mean(axis=0).axes[0])\n",
    "user_vec"
   ]
  },
  {
   "cell_type": "code",
   "execution_count": 65,
   "metadata": {},
   "outputs": [
    {
     "output_type": "execute_result",
     "data": {
      "text/plain": [
       "   track_analysis_sample_rate  track_loudness  track_tempo  \\\n",
       "0                     22050.0       -9.284545   121.297747   \n",
       "\n",
       "   track_tempo_confidence  track_time_signature  \\\n",
       "0                0.448141              3.909091   \n",
       "\n",
       "   track_time_signature_confidence  track_key  track_key_confidence  \\\n",
       "0                         0.882939   5.888889              0.473727   \n",
       "\n",
       "   track_mode  track_mode_confidence  ...  sections_loudness_median  \\\n",
       "0    0.676768               0.488495  ...                 -9.890571   \n",
       "\n",
       "   sections_loudness_stdev  sections_loudness_variance  sections_tempo_median  \\\n",
       "0                 5.279587                   40.744358             121.448232   \n",
       "\n",
       "   sections_tempo_stdev  sections_tempo_variance  sections_key_median  \\\n",
       "0              6.631411               177.722279             4.974747   \n",
       "\n",
       "   sections_key_stdev  sections_key_variance  section_mode_mean  \n",
       "0            3.161058              11.004049           0.691732  \n",
       "\n",
       "[1 rows x 38 columns]"
      ],
      "text/html": "<div>\n<style scoped>\n    .dataframe tbody tr th:only-of-type {\n        vertical-align: middle;\n    }\n\n    .dataframe tbody tr th {\n        vertical-align: top;\n    }\n\n    .dataframe thead th {\n        text-align: right;\n    }\n</style>\n<table border=\"1\" class=\"dataframe\">\n  <thead>\n    <tr style=\"text-align: right;\">\n      <th></th>\n      <th>track_analysis_sample_rate</th>\n      <th>track_loudness</th>\n      <th>track_tempo</th>\n      <th>track_tempo_confidence</th>\n      <th>track_time_signature</th>\n      <th>track_time_signature_confidence</th>\n      <th>track_key</th>\n      <th>track_key_confidence</th>\n      <th>track_mode</th>\n      <th>track_mode_confidence</th>\n      <th>...</th>\n      <th>sections_loudness_median</th>\n      <th>sections_loudness_stdev</th>\n      <th>sections_loudness_variance</th>\n      <th>sections_tempo_median</th>\n      <th>sections_tempo_stdev</th>\n      <th>sections_tempo_variance</th>\n      <th>sections_key_median</th>\n      <th>sections_key_stdev</th>\n      <th>sections_key_variance</th>\n      <th>section_mode_mean</th>\n    </tr>\n  </thead>\n  <tbody>\n    <tr>\n      <th>0</th>\n      <td>22050.0</td>\n      <td>-9.284545</td>\n      <td>121.297747</td>\n      <td>0.448141</td>\n      <td>3.909091</td>\n      <td>0.882939</td>\n      <td>5.888889</td>\n      <td>0.473727</td>\n      <td>0.676768</td>\n      <td>0.488495</td>\n      <td>...</td>\n      <td>-9.890571</td>\n      <td>5.279587</td>\n      <td>40.744358</td>\n      <td>121.448232</td>\n      <td>6.631411</td>\n      <td>177.722279</td>\n      <td>4.974747</td>\n      <td>3.161058</td>\n      <td>11.004049</td>\n      <td>0.691732</td>\n    </tr>\n  </tbody>\n</table>\n<p>1 rows × 38 columns</p>\n</div>"
     },
     "metadata": {},
     "execution_count": 65
    }
   ],
   "source": [
    "user_vec.append(track_data.mean(axis=0), ignore_index=True)"
   ]
  },
  {
   "source": [],
   "cell_type": "markdown",
   "metadata": {}
  },
  {
   "cell_type": "code",
   "execution_count": 71,
   "metadata": {},
   "outputs": [],
   "source": [
    "user_median = user_song_count.groupby(by=[\"user_id\"])[[\"play_count\"]].median()\n",
    "# user_median.set_index(['user_id'])"
   ]
  },
  {
   "cell_type": "code",
   "execution_count": 43,
   "metadata": {},
   "outputs": [
    {
     "output_type": "stream",
     "name": "stdout",
     "text": [
      "2\n1\n"
     ]
    }
   ],
   "source": [
    "median_count = user_song_count.groupby(by=[\"user_id\"])[[\"play_count\"]].median()\n",
    "for tuple in median_count.itertuples():\n",
    "    print(tuple.play_count)"
   ]
  },
  {
   "cell_type": "code",
   "execution_count": 44,
   "metadata": {},
   "outputs": [],
   "source": [
    "mid_triplets = pd.read_csv(\"mid_triplets.csv\")"
   ]
  },
  {
   "cell_type": "code",
   "execution_count": 49,
   "metadata": {},
   "outputs": [
    {
     "output_type": "execute_result",
     "data": {
      "text/plain": [
       "array(['b80344d063b5ccb3212f76538f3d9e43d87dca9e',\n",
       "       '85c1f87fea955d09b4bec2e36aee110927aedf9a',\n",
       "       'bd4c6e843f00bd476847fb75c47b4fb430a06856',\n",
       "       '8937134734f869debcab8f23d77465b4caaa85df',\n",
       "       '969cc6fb74e076a68e36a04409cb9d3765757508',\n",
       "       '4bd88bfb25263a75bbdd467e74018f4ae570e5df',\n",
       "       'e006b1a48f466bf59feefed32bec6494495a4436',\n",
       "       '9d6f0ead607ac2a6c2460e4d14fb439a146b7dec',\n",
       "       '9bb911319fbc04f01755814cb5edb21df3d1a336',\n",
       "       'b64cdd1a0bd907e5e00b39e345194768e330d652',\n",
       "       '17aa9f6dbdf753831da8f38c71b66b64373de613',\n",
       "       'd6589314c0a9bcbca4fee0c93b14bc402363afea',\n",
       "       '5a905f000fc1ff3df7ca807d57edb608863db05d',\n",
       "       'c737ec8c1b16ce8e39115f4432c9a7fc21ec47a1',\n",
       "       '45544491ccfcdc0b0803c34f201a6287ed4e30f8',\n",
       "       'ed7d4c476013b1c3dd91982b61494bf7436083ba',\n",
       "       'baf47ed8da24d607e50d8684cde78b923538640f',\n",
       "       '169f9f4c68b62d1887c7c0ac99d10a79cfca5daf',\n",
       "       'a820d2d4f16bbd53be9e41e0417dfb234bfdfba8',\n",
       "       'bd8475385f0aa78830fa6dfce9e7242164b035c8',\n",
       "       '0afaa5d9d04bf85af720fe8cc566a41ca3e41c97',\n",
       "       '81bde1c3a845c64f1677bd9d28f2da85dfefcf30',\n",
       "       '403b3b867fc71dfdcc12652f30e88bdc7ccd9aa4',\n",
       "       'f84f5b5a5c5d1d9fb4866f6488e0d2661b54c192',\n",
       "       'a1380d458c15706b9d5282304db81a5a78352e96',\n",
       "       '405d396ea64d75b5eaefaaf8ac836f45fa56af4d',\n",
       "       '2c42e6551311710ca5a839d62058820a42ead493',\n",
       "       '8deca80c3da6024a1456e123308eb94fee1b439f',\n",
       "       'bf30441e24ef5326354295723d9fe1edf59b8554',\n",
       "       '12768858f6a825452e412deb1df36d2d1d9c6791',\n",
       "       'a58de017cbeda1763ea002fe027ed41b4ed53109',\n",
       "       '951945330eb5df161ac4f97729647514001cd102',\n",
       "       '2b6c2f33bc0e887ea7c4411f58106805a1923280',\n",
       "       'c2934b29d64e467297c608351ed9695ce62128bc',\n",
       "       '3f152d355d53865a2ca27ac5ceeffb7ebaea0a26',\n",
       "       '90dbbbb47979f46ccdbc413d6b6e31cdb55aa58f',\n",
       "       'ee03697dfdf668a9cd19a44a6f257b9d6a1dc60a',\n",
       "       'f5e8cc6983d563ff255988b9ea0c53e67941f71e',\n",
       "       '1fdf267d8e81db0bb69093460fdab8254e69a2de',\n",
       "       '484b69dd013df1ec0cfd504886d4f647cb32b08f',\n",
       "       'ff4322e94814d3c7895d07e6f94139b092862611',\n",
       "       'd66f2f66f2bdc9aa3d0362a35fc91ccc844101f7',\n",
       "       '0152fcbd02b172a874c75a57a913f0f0109ba272',\n",
       "       '523a8a39456d5a96ae8f4d5e8b8b60f3bfb31528',\n",
       "       '43683da3c6c5a93c7938ff550faf0d039a9a639a',\n",
       "       '930d2be6c85315d72cab9823ec0f7bfe7e477794',\n",
       "       '73d0a0c725c9b2c541635672bb0572bfcb7eb2b4',\n",
       "       'ca80fbb6d0deb3cae53763099e2cae7306f005ec',\n",
       "       'b41ead730ac14f6b6717b9cf8859d5579f3f8d4d',\n",
       "       '2aa3b8c9f60070025940183cdd44602086d7b535',\n",
       "       '6f62f1c30b0f4b87db28c101ddcab89b4f5d7298',\n",
       "       'e6b4dbf8e48346fbfd233fa96cdf5daee25ae77c',\n",
       "       '99b5f915dd56a0150eb91605e1f6109e1e80c9de',\n",
       "       '77cac5c3389010b64d01b30f725c24de4a5bb626',\n",
       "       'a4851161aef67246972269b957ab54be3b002c8b',\n",
       "       'b6b799f34a204bd928ea014c243ddad6d0be4f8f',\n",
       "       'a5cc4c1c78e830b43bba70a8d439ad865ca8026f',\n",
       "       '80aa05e1251892949df7c7b1f61b6ce8ffa27aec',\n",
       "       '99d57b8925d3c30c534d2e651cc029fcaaa86cce',\n",
       "       'edc8b7b1fd592a3b69c3d823a742e1a064abec95',\n",
       "       'fe979a7b199de3ee8a78486c10e5ed13587fc359',\n",
       "       '732f88be38fae217f8ab7e24c20dd072436e3e40',\n",
       "       '0c1a6a1fc9b0e6df616c5bddace2559a7952ebe5',\n",
       "       '3f9ed694a79835c921ef6d94acd28f876c1d901e',\n",
       "       '1a849df9dabb15845eb932d46d81e2fd77176786',\n",
       "       'a4a1daac7ba5534ade06e32c5b9d220eb5ce145d',\n",
       "       'f28f980d8842ebfaa31e8fb3939aace4a43a18ec',\n",
       "       'daebcdcf97caaf54a327b8ff52eca9f320599a10',\n",
       "       '4c84359a164b161496d05282707cecbd50adbfc4',\n",
       "       '8cbb5066924ec788e3fea9a4aae59586f46f38fa',\n",
       "       '3b3c1e29095a98ae07e2427522244f10daa69340',\n",
       "       'c2cffe9ccaa09a327e8134e9a1f24901801fb2f8',\n",
       "       '01655ae6bc52e29c9cd100a7dde4e9eeae5e4031',\n",
       "       '9fba771d9731561eba47216f6fbfc0023d88641b',\n",
       "       '62f2f9b881dc320d745a90c0c10528d18e10deb1',\n",
       "       '1b00fc5a510fd249d4d2f94e7f21f1e2eeb21cff',\n",
       "       'b4e32cdb654ab914a0ac73d2bbc5cae142da405a',\n",
       "       'f47116f998e030f2dab275b81fb2a04a9dc06c33',\n",
       "       '20d0638c7ada27ac12346b0ed5ab99b39524291d',\n",
       "       '7e2b716907a9a295d92c2f35d7e260aeee2b32cf',\n",
       "       'ea07020bb223c733ccc55aa925ebcc25c4d97377',\n",
       "       '179b2286bb4eea7193bcfa0c36fcfa4eade2b34d',\n",
       "       'b61afb42335287239bd40e1dea50d849cbf8a9a9',\n",
       "       '78e0065cacc15d6329be91b77045f12ab18cbea5',\n",
       "       '3ff7a31452eeabd7a4e07f0d243c674e3d0adf46',\n",
       "       '956044d724390e40c8511b49e5bf6bc28071de3a',\n",
       "       '07caa920795cd4f20bfeeb0e192a5ddd9566ecdd',\n",
       "       '8247c08db9dba6cc18cff4381c7279e540c374cb',\n",
       "       '589d9f98cb25b83da2450733437fb9a79dda116d',\n",
       "       'b526db34ac055a64202fe7af4b16130b7de545ab',\n",
       "       '15415fa2745b344bce958967c346f2a89f792f63',\n",
       "       '66166f4f57bb897f1f8e2aae6f53f776088f43d8',\n",
       "       '5555d1bc4488a310753a9d7b4c4d0b92c2d5d674',\n",
       "       '95942345306393998eb3a051ae5fa3c4d5afbaa4',\n",
       "       '344af62cf08ea5c4ea1eb554366d221c1431f4d3',\n",
       "       '2f343c8bd0502c4cf851a6970e47d296a4b76d5b',\n",
       "       '9fbc0cc4fe6191cabdddf41124bd507dca08ceb6',\n",
       "       'eb9d84c10ac4bffeb383a3a7c2d5207c93da4a84',\n",
       "       '55e29789181da8b9c8e9d5f3b624a029492d7616',\n",
       "       'eb1ad31d040406c6428c5f4420b0bc709b1c5350'], dtype=object)"
      ]
     },
     "metadata": {},
     "execution_count": 49
    }
   ],
   "source": [
    "mid_triplets.user_id.unique()"
   ]
  },
  {
   "cell_type": "code",
   "execution_count": 51,
   "metadata": {},
   "outputs": [],
   "source": [
    "selected_users = ['b80344d063b5ccb3212f76538f3d9e43d87dca9e', \n",
    "                  '85c1f87fea955d09b4bec2e36aee110927aedf9a',\n",
    "                  '81bde1c3a845c64f1677bd9d28f2da85dfefcf30',\n",
    "                  '3ff7a31452eeabd7a4e07f0d243c674e3d0adf46',\n",
    "                  'b526db34ac055a64202fe7af4b16130b7de545ab']"
   ]
  },
  {
   "cell_type": "code",
   "execution_count": 52,
   "metadata": {},
   "outputs": [],
   "source": [
    "five_users_triplets = mid_triplets[mid_triplets['user_id'].isin(selected_users)]"
   ]
  },
  {
   "cell_type": "code",
   "execution_count": 55,
   "metadata": {},
   "outputs": [],
   "source": [
    "five_users_triplets.to_csv(\"five_users_triplets.csv\", index = False)"
   ]
  },
  {
   "cell_type": "code",
   "execution_count": 77,
   "metadata": {},
   "outputs": [],
   "source": [
    "def get_user_profile_matrix() :\n",
    "    track_data = pd.read_csv(\"mid_track_data.csv\")\n",
    "    triplets_data = pd.read_csv(\"five_users_triplets.csv\")\n",
    "    track_data = track_data.set_index([\"song_id\"])\n",
    "    triplets_data = triplets_data.set_index([\"user_id\"])\n",
    "    user_median_play_count = (triplets_data.groupby(by=[\"user_id\"])[[\"play_count\"]]\n",
    "                                           .median())\n",
    "    user_profile_mat = []\n",
    "    user_profile_mat_columns = (track_data.select_dtypes(include = ['number'])\n",
    "                                            .columns)\n",
    "    \n",
    "    for tuple in user_median_play_count.itertuples():\n",
    "        user_id = tuple.Index\n",
    "        median_threshold = tuple.play_count\n",
    "        user_triplets = triplets_data.loc[user_id]\n",
    "        filtered_songids = user_triplets.loc[(user_triplets.play_count >= median_threshold), ['song_id']]\n",
    "        filtered_songs = pd.merge(track_data, filtered_songids, how='inner', on=\"song_id\")\n",
    "        user_profile = filtered_songs.mean(axis=0)\n",
    "        user_profile_mat.append(user_profile)\n",
    "    \n",
    "    user_profile_mat_df = pd.DataFrame(user_profile_mat, \n",
    "                                       columns=user_profile_mat_columns,\n",
    "                                       index=user_median_play_count.index)\n",
    "    return user_profile_mat_df"
   ]
  },
  {
   "cell_type": "code",
   "execution_count": 83,
   "metadata": {},
   "outputs": [],
   "source": [
    "user_profile_df = get_user_profile_matrix()"
   ]
  },
  {
   "cell_type": "code",
   "execution_count": 82,
   "metadata": {},
   "outputs": [],
   "source": [
    "track_data = pd.read_csv(\"mid_track_data.csv\")"
   ]
  },
  {
   "cell_type": "code",
   "execution_count": 81,
   "metadata": {},
   "outputs": [],
   "source": [
    "filtered_track_data = track_data.select_dtypes(include = ['number'])"
   ]
  },
  {
   "cell_type": "code",
   "execution_count": 86,
   "metadata": {},
   "outputs": [
    {
     "output_type": "execute_result",
     "data": {
      "text/plain": [
       "Index(['track_analysis_sample_rate', 'track_loudness', 'track_tempo',\n",
       "       'track_tempo_confidence', 'track_time_signature',\n",
       "       'track_time_signature_confidence', 'track_key', 'track_key_confidence',\n",
       "       'track_mode', 'track_mode_confidence', 'tatum_duration_median',\n",
       "       'tatum_duration_stdev', 'tatum_duration_variance',\n",
       "       'segment_duration_median', 'segment_duration_stdev',\n",
       "       'segment_duration_variance', 'segment_loudness_max_median',\n",
       "       'segment_loudness_max_stdev', 'segment_loudness_max_variance',\n",
       "       'segment_loudness_start_median', 'segment_loudness_start_stdev',\n",
       "       'segment_loudness_start_variance', 'segment_loudness_end_median',\n",
       "       'segment_loudness_end_stdev', 'segment_loudness_end_variance',\n",
       "       'sections_duration_median', 'sections_duration_stdev',\n",
       "       'sections_duration_variance', 'sections_loudness_median',\n",
       "       'sections_loudness_stdev', 'sections_loudness_variance',\n",
       "       'sections_tempo_median', 'sections_tempo_stdev',\n",
       "       'sections_tempo_variance', 'sections_key_median', 'sections_key_stdev',\n",
       "       'sections_key_variance', 'section_mode_mean'],\n",
       "      dtype='object')"
      ]
     },
     "metadata": {},
     "execution_count": 86
    }
   ],
   "source": [
    "user_profile_df.columns"
   ]
  },
  {
   "cell_type": "code",
   "execution_count": 88,
   "metadata": {},
   "outputs": [
    {
     "output_type": "execute_result",
     "data": {
      "text/plain": [
       "True"
      ]
     },
     "metadata": {},
     "execution_count": 88
    }
   ],
   "source": [
    "filtered_track_data.columns.equals(user_profile_df.columns)"
   ]
  },
  {
   "cell_type": "code",
   "execution_count": 90,
   "metadata": {},
   "outputs": [
    {
     "output_type": "execute_result",
     "data": {
      "text/plain": [
       "array([[ 2.20500000e+04, -1.48810000e+01,  1.10968000e+02, ...,\n",
       "         1.15786845e+00,  1.34065934e+00,  8.57142857e-01],\n",
       "       [ 2.20500000e+04, -8.80200000e+00,  1.22323000e+02, ...,\n",
       "         2.53003931e+00,  6.40109890e+00,  4.28571429e-01],\n",
       "       [ 2.20500000e+04, -1.36610000e+01,  9.93940000e+01, ...,\n",
       "         2.67649703e+00,  7.16363636e+00,  8.18181818e-01],\n",
       "       ...,\n",
       "       [ 2.20500000e+04, -1.86970000e+01,  1.82863000e+02, ...,\n",
       "         5.16397779e-01,  2.66666667e-01,  1.00000000e+00],\n",
       "       [ 2.20500000e+04, -6.17300000e+00,  9.99570000e+01, ...,\n",
       "         4.32049380e+00,  1.86666667e+01,  6.25000000e-01],\n",
       "       [ 2.20500000e+04, -8.48300000e+00,  1.13269000e+02, ...,\n",
       "         2.62678511e+00,  6.90000000e+00,  9.00000000e-01]])"
      ]
     },
     "metadata": {},
     "execution_count": 90
    }
   ],
   "source": [
    "filtered_track_data.to_numpy()"
   ]
  },
  {
   "cell_type": "code",
   "execution_count": 93,
   "metadata": {},
   "outputs": [],
   "source": [
    "from sklearn.metrics import pairwise_distances"
   ]
  },
  {
   "cell_type": "code",
   "execution_count": 100,
   "metadata": {},
   "outputs": [
    {
     "output_type": "execute_result",
     "data": {
      "text/plain": [
       "array(['b80344d063b5ccb3212f76538f3d9e43d87dca9e',\n",
       "       '85c1f87fea955d09b4bec2e36aee110927aedf9a',\n",
       "       '81bde1c3a845c64f1677bd9d28f2da85dfefcf30',\n",
       "       '3ff7a31452eeabd7a4e07f0d243c674e3d0adf46',\n",
       "       'b526db34ac055a64202fe7af4b16130b7de545ab'], dtype=object)"
      ]
     },
     "metadata": {},
     "execution_count": 100
    }
   ],
   "source": [
    "user_ids = five_users_triplets.user_id.unique()\n",
    "user_ids"
   ]
  },
  {
   "cell_type": "code",
   "execution_count": 104,
   "metadata": {},
   "outputs": [
    {
     "output_type": "execute_result",
     "data": {
      "text/plain": [
       "{'b80344d063b5ccb3212f76538f3d9e43d87dca9e': 0,\n",
       " '85c1f87fea955d09b4bec2e36aee110927aedf9a': 1,\n",
       " '81bde1c3a845c64f1677bd9d28f2da85dfefcf30': 2,\n",
       " '3ff7a31452eeabd7a4e07f0d243c674e3d0adf46': 3,\n",
       " 'b526db34ac055a64202fe7af4b16130b7de545ab': 4}"
      ]
     },
     "metadata": {},
     "execution_count": 104
    }
   ],
   "source": [
    "{user_id: index[0] for index, user_id in np.ndenumerate(user_ids)}"
   ]
  },
  {
   "cell_type": "code",
   "execution_count": 105,
   "metadata": {},
   "outputs": [],
   "source": [
    "def get_user_song_count_mat(triplets_data_path = \"mini_triplets.csv\"):\n",
    "    triplets_data = pd.read_csv(triplets_data_path)\n",
    "    user_ids = triplets_data.user_id.unique()\n",
    "    user_ids_dict = {user_id: index[0] for index, user_id in np.ndenumerate(user_ids)}\n",
    "    song_ids = triplets_data.song_id.unique()\n",
    "    song_ids_dict = {song_id: index[0] for index, song_id in np.ndenumerate(song_ids)}\n",
    "    user_song_count_mat = np.zeros(shape=(len(user_ids),len(song_ids)))\n",
    "    \n",
    "    for triplet in triplets_data.itertuples():\n",
    "        user_id = triplet.user_id\n",
    "        song_id = triplet.song_id\n",
    "        user_id_idx = user_ids_dict[user_id]\n",
    "        song_id_idx = song_ids_dict[song_id]\n",
    "        user_song_count_mat[user_id_idx, song_id_idx] = triplet.play_count\n",
    "    \n",
    "    return user_ids, song_ids, user_song_count_mat"
   ]
  },
  {
   "cell_type": "code",
   "execution_count": 106,
   "metadata": {},
   "outputs": [
    {
     "output_type": "execute_result",
     "data": {
      "text/plain": [
       "(array(['b80344d063b5ccb3212f76538f3d9e43d87dca9e',\n",
       "        '85c1f87fea955d09b4bec2e36aee110927aedf9a'], dtype=object),\n",
       " array(['SOAPDEY12A81C210A9', 'SOBBMDR12A8C13253B', 'SOBFNSP12AF72A0E22',\n",
       "        'SOBFOVM12A58A7D494', 'SOBSUJE12A6D4F8CF5', 'SOBVFZR12A6D4F8AE3',\n",
       "        'SOBXALG12A8C13C108', 'SOBXHDL12A81C204C0', 'SOBYHAJ12A6701BF1D',\n",
       "        'SOCNMUH12A6D4F6E6D', 'SODACBL12A8C13C273', 'SODDNQT12A6D4F5F7E',\n",
       "        'SODXRTY12AB0180F3B', 'SODZWFT12A8C13C0E4', 'SOEGVZY12A58A7857E',\n",
       "        'SOEKWEA12A6D4F5DC3', 'SOEOBYG12A6D4F8AE2', 'SOEWFWM12A8C1308BA',\n",
       "        'SOFFJPX12A6D4F7456', 'SOFGUAY12AB017B0A8', 'SOFTKSZ12A6D4F5DC5',\n",
       "        'SOFZFQU12A8C13CAB8', 'SOGJAOS12A6D4F7459', 'SOHQIAG12A8C136F64',\n",
       "        'SOIAOBY12A8C13BF75', 'SOIQOQT12A8C136F96', 'SOISWBZ12A8C13C0F7',\n",
       "        'SOIZAZL12A6701C53B', 'SOJNNUA12A8AE48C7A', 'SOJPFQG12A58A7833A',\n",
       "        'SOJTEDZ12A58A7CB3D', 'SOKRIMP12A6D4F5DA3', 'SOKSIKA12A6D4F5DC7',\n",
       "        'SOKUZGZ12A8C136F88', 'SOLFJVY12A6D4F9DCA', 'SOLGNOE12A8C139CA9',\n",
       "        'SOLLGNU12AF72A4D4F', 'SOLUHPJ12A8C13AB0F', 'SOLXHAI12A6D4FD6F3',\n",
       "        'SOMGIYR12AB0187973', 'SOMLMKI12A81C204BC', 'SOMSQJY12A8C138539',\n",
       "        'SOMZWUW12A8C1400BC', 'SONKSNV12A58A7F654', 'SONRXOY12AB0181E84',\n",
       "        'SONSAEZ12A8C138D7A', 'SONVJAW12A8C139EFB', 'SONYTAN12A8C13BF88',\n",
       "        'SOOCURD12A81C21C23', 'SOOGGEX12A58A7DACF', 'SOOKGRB12A8C13CD66',\n",
       "        'SOOSIVQ12A6D4F8AE0', 'SOPBCSY12A6D4F5DC4', 'SOPZAUC12A58A7DB24',\n",
       "        'SOQDBOA12A8C13E5E6', 'SOQEMEN12A8C13BF8B', 'SOQIVUD12AB01821D2',\n",
       "        'SOQJLDY12AAF3B456D', 'SOQLCKR12A81C22440', 'SOQMUDW12A58A7AF03',\n",
       "        'SORDDVI12A8C136F53', 'SORJNVW12A8C13BF90', 'SORPMYJ12AF729EB90',\n",
       "        'SORQHCG12A58A7EEBA', 'SORSAJY12A6D4F7457', 'SORUFVF12AB018230B',\n",
       "        'SORWLTW12A670208FA', 'SORZASF12A6D4F8CFA', 'SOSYBEV12AB0182933',\n",
       "        'SOTCPHF12A8C13BF9B', 'SOTFATN12A6D4FA74D', 'SOTGVEX12A8C136F82',\n",
       "        'SOTHMIK12A8C136FA1', 'SOTLVCL12AB0182D22', 'SOTRSFZ12A8C142BF6',\n",
       "        'SOUHNSN12A8C13C1A4', 'SOUKXIN12A8C133C7F', 'SOUQUBU12AF72A47B3',\n",
       "        'SOVAJXX12A8AE47D5C', 'SOVHRGF12A8C13852F', 'SOVQEYZ12A8C1379D8',\n",
       "        'SOVYIYI12A8C138D88', 'SOVZRXZ12A58A77A88', 'SOWEZSI12A81C21CE6',\n",
       "        'SOWMHHL12A8C14178E', 'SOWQLXP12AF72A08A2', 'SOWSPUS12AC468BEE3',\n",
       "        'SOXMIUS12A8C13CD59', 'SOXRXDG12A8C131DE5', 'SOXSPON12A6D4F5DC2',\n",
       "        'SOXZQDE12A8C135833', 'SOYYWMD12A58A7BCC9', 'SOZOBWN12A8C130999',\n",
       "        'SOZZHXI12A8C13BF7D', 'SOACWYB12AF729E581', 'SOAUSXX12A8C136188',\n",
       "        'SOBVAHM12A8C13C4CB', 'SODJTHN12AF72A8FCD', 'SOELXOV12A8C13616B'],\n",
       "       dtype=object),\n",
       " array([[1., 2., 1., 1., 2., 1., 1., 1., 1., 1., 1., 5., 1., 1., 1., 1.,\n",
       "         1., 1., 1., 1., 1., 1., 1., 1., 1., 1., 1., 5., 1., 1., 1., 5.,\n",
       "         1., 1., 1., 1., 1., 1., 1., 6., 1., 1., 6., 2., 1., 1., 1., 1.,\n",
       "         5., 1., 1., 1., 1., 1., 1., 1., 1., 1., 1., 1., 1., 1., 1., 1.,\n",
       "         1., 1., 1., 2., 1., 1., 1., 1., 1., 1., 1., 2., 1., 1., 1., 1.,\n",
       "         1., 1., 1., 1., 1., 1., 1., 1., 1., 1., 1., 1., 1., 1., 0., 0.,\n",
       "         0., 0., 0.],\n",
       "        [0., 0., 0., 0., 0., 0., 0., 0., 0., 0., 0., 0., 0., 0., 0., 0.,\n",
       "         0., 0., 0., 0., 0., 0., 0., 0., 0., 0., 0., 0., 0., 0., 0., 0.,\n",
       "         0., 0., 0., 0., 0., 0., 0., 0., 0., 0., 0., 0., 0., 0., 0., 0.,\n",
       "         0., 0., 0., 0., 0., 0., 0., 0., 0., 0., 0., 0., 0., 0., 0., 0.,\n",
       "         0., 0., 0., 0., 0., 0., 0., 0., 0., 0., 0., 0., 0., 0., 0., 0.,\n",
       "         0., 0., 0., 0., 0., 0., 0., 0., 0., 0., 0., 0., 0., 0., 2., 1.,\n",
       "         1., 2., 2.]]))"
      ]
     },
     "metadata": {},
     "execution_count": 106
    }
   ],
   "source": [
    "get_user_song_count_mat()"
   ]
  },
  {
   "cell_type": "code",
   "execution_count": 122,
   "metadata": {},
   "outputs": [],
   "source": [
    "mini_track_data = pd.read_csv(\"mini_track_data.csv\")\n",
    "mini_track_data = mini_track_data.set_index([\"song_id\"])\n",
    "mini_triplets = pd.read_csv(\"mini_triplets.csv\")\n",
    "mini_triplets = mini_triplets.set_index([\"user_id\"])"
   ]
  },
  {
   "cell_type": "code",
   "execution_count": 123,
   "metadata": {},
   "outputs": [
    {
     "output_type": "execute_result",
     "data": {
      "text/plain": [
       "Index(['b80344d063b5ccb3212f76538f3d9e43d87dca9e',\n",
       "       'b80344d063b5ccb3212f76538f3d9e43d87dca9e',\n",
       "       'b80344d063b5ccb3212f76538f3d9e43d87dca9e',\n",
       "       'b80344d063b5ccb3212f76538f3d9e43d87dca9e',\n",
       "       'b80344d063b5ccb3212f76538f3d9e43d87dca9e',\n",
       "       'b80344d063b5ccb3212f76538f3d9e43d87dca9e',\n",
       "       'b80344d063b5ccb3212f76538f3d9e43d87dca9e',\n",
       "       'b80344d063b5ccb3212f76538f3d9e43d87dca9e',\n",
       "       'b80344d063b5ccb3212f76538f3d9e43d87dca9e',\n",
       "       'b80344d063b5ccb3212f76538f3d9e43d87dca9e',\n",
       "       'b80344d063b5ccb3212f76538f3d9e43d87dca9e',\n",
       "       'b80344d063b5ccb3212f76538f3d9e43d87dca9e',\n",
       "       'b80344d063b5ccb3212f76538f3d9e43d87dca9e',\n",
       "       'b80344d063b5ccb3212f76538f3d9e43d87dca9e',\n",
       "       'b80344d063b5ccb3212f76538f3d9e43d87dca9e',\n",
       "       'b80344d063b5ccb3212f76538f3d9e43d87dca9e',\n",
       "       'b80344d063b5ccb3212f76538f3d9e43d87dca9e',\n",
       "       'b80344d063b5ccb3212f76538f3d9e43d87dca9e',\n",
       "       'b80344d063b5ccb3212f76538f3d9e43d87dca9e',\n",
       "       'b80344d063b5ccb3212f76538f3d9e43d87dca9e',\n",
       "       'b80344d063b5ccb3212f76538f3d9e43d87dca9e',\n",
       "       'b80344d063b5ccb3212f76538f3d9e43d87dca9e',\n",
       "       'b80344d063b5ccb3212f76538f3d9e43d87dca9e',\n",
       "       'b80344d063b5ccb3212f76538f3d9e43d87dca9e',\n",
       "       'b80344d063b5ccb3212f76538f3d9e43d87dca9e',\n",
       "       'b80344d063b5ccb3212f76538f3d9e43d87dca9e',\n",
       "       'b80344d063b5ccb3212f76538f3d9e43d87dca9e',\n",
       "       'b80344d063b5ccb3212f76538f3d9e43d87dca9e',\n",
       "       'b80344d063b5ccb3212f76538f3d9e43d87dca9e',\n",
       "       'b80344d063b5ccb3212f76538f3d9e43d87dca9e',\n",
       "       'b80344d063b5ccb3212f76538f3d9e43d87dca9e',\n",
       "       'b80344d063b5ccb3212f76538f3d9e43d87dca9e',\n",
       "       'b80344d063b5ccb3212f76538f3d9e43d87dca9e',\n",
       "       'b80344d063b5ccb3212f76538f3d9e43d87dca9e',\n",
       "       'b80344d063b5ccb3212f76538f3d9e43d87dca9e',\n",
       "       'b80344d063b5ccb3212f76538f3d9e43d87dca9e',\n",
       "       'b80344d063b5ccb3212f76538f3d9e43d87dca9e',\n",
       "       'b80344d063b5ccb3212f76538f3d9e43d87dca9e',\n",
       "       'b80344d063b5ccb3212f76538f3d9e43d87dca9e',\n",
       "       'b80344d063b5ccb3212f76538f3d9e43d87dca9e',\n",
       "       'b80344d063b5ccb3212f76538f3d9e43d87dca9e',\n",
       "       'b80344d063b5ccb3212f76538f3d9e43d87dca9e',\n",
       "       'b80344d063b5ccb3212f76538f3d9e43d87dca9e',\n",
       "       'b80344d063b5ccb3212f76538f3d9e43d87dca9e',\n",
       "       'b80344d063b5ccb3212f76538f3d9e43d87dca9e',\n",
       "       'b80344d063b5ccb3212f76538f3d9e43d87dca9e',\n",
       "       'b80344d063b5ccb3212f76538f3d9e43d87dca9e',\n",
       "       'b80344d063b5ccb3212f76538f3d9e43d87dca9e',\n",
       "       'b80344d063b5ccb3212f76538f3d9e43d87dca9e',\n",
       "       'b80344d063b5ccb3212f76538f3d9e43d87dca9e',\n",
       "       'b80344d063b5ccb3212f76538f3d9e43d87dca9e',\n",
       "       'b80344d063b5ccb3212f76538f3d9e43d87dca9e',\n",
       "       'b80344d063b5ccb3212f76538f3d9e43d87dca9e',\n",
       "       'b80344d063b5ccb3212f76538f3d9e43d87dca9e',\n",
       "       'b80344d063b5ccb3212f76538f3d9e43d87dca9e',\n",
       "       'b80344d063b5ccb3212f76538f3d9e43d87dca9e',\n",
       "       'b80344d063b5ccb3212f76538f3d9e43d87dca9e',\n",
       "       'b80344d063b5ccb3212f76538f3d9e43d87dca9e',\n",
       "       'b80344d063b5ccb3212f76538f3d9e43d87dca9e',\n",
       "       'b80344d063b5ccb3212f76538f3d9e43d87dca9e',\n",
       "       'b80344d063b5ccb3212f76538f3d9e43d87dca9e',\n",
       "       'b80344d063b5ccb3212f76538f3d9e43d87dca9e',\n",
       "       'b80344d063b5ccb3212f76538f3d9e43d87dca9e',\n",
       "       'b80344d063b5ccb3212f76538f3d9e43d87dca9e',\n",
       "       'b80344d063b5ccb3212f76538f3d9e43d87dca9e',\n",
       "       'b80344d063b5ccb3212f76538f3d9e43d87dca9e',\n",
       "       'b80344d063b5ccb3212f76538f3d9e43d87dca9e',\n",
       "       'b80344d063b5ccb3212f76538f3d9e43d87dca9e',\n",
       "       'b80344d063b5ccb3212f76538f3d9e43d87dca9e',\n",
       "       'b80344d063b5ccb3212f76538f3d9e43d87dca9e',\n",
       "       'b80344d063b5ccb3212f76538f3d9e43d87dca9e',\n",
       "       'b80344d063b5ccb3212f76538f3d9e43d87dca9e',\n",
       "       'b80344d063b5ccb3212f76538f3d9e43d87dca9e',\n",
       "       'b80344d063b5ccb3212f76538f3d9e43d87dca9e',\n",
       "       'b80344d063b5ccb3212f76538f3d9e43d87dca9e',\n",
       "       'b80344d063b5ccb3212f76538f3d9e43d87dca9e',\n",
       "       'b80344d063b5ccb3212f76538f3d9e43d87dca9e',\n",
       "       'b80344d063b5ccb3212f76538f3d9e43d87dca9e',\n",
       "       'b80344d063b5ccb3212f76538f3d9e43d87dca9e',\n",
       "       'b80344d063b5ccb3212f76538f3d9e43d87dca9e',\n",
       "       'b80344d063b5ccb3212f76538f3d9e43d87dca9e',\n",
       "       'b80344d063b5ccb3212f76538f3d9e43d87dca9e',\n",
       "       'b80344d063b5ccb3212f76538f3d9e43d87dca9e',\n",
       "       'b80344d063b5ccb3212f76538f3d9e43d87dca9e',\n",
       "       'b80344d063b5ccb3212f76538f3d9e43d87dca9e',\n",
       "       'b80344d063b5ccb3212f76538f3d9e43d87dca9e',\n",
       "       'b80344d063b5ccb3212f76538f3d9e43d87dca9e',\n",
       "       'b80344d063b5ccb3212f76538f3d9e43d87dca9e',\n",
       "       'b80344d063b5ccb3212f76538f3d9e43d87dca9e',\n",
       "       'b80344d063b5ccb3212f76538f3d9e43d87dca9e',\n",
       "       'b80344d063b5ccb3212f76538f3d9e43d87dca9e',\n",
       "       'b80344d063b5ccb3212f76538f3d9e43d87dca9e',\n",
       "       'b80344d063b5ccb3212f76538f3d9e43d87dca9e',\n",
       "       'b80344d063b5ccb3212f76538f3d9e43d87dca9e',\n",
       "       '85c1f87fea955d09b4bec2e36aee110927aedf9a',\n",
       "       '85c1f87fea955d09b4bec2e36aee110927aedf9a',\n",
       "       '85c1f87fea955d09b4bec2e36aee110927aedf9a',\n",
       "       '85c1f87fea955d09b4bec2e36aee110927aedf9a',\n",
       "       '85c1f87fea955d09b4bec2e36aee110927aedf9a'],\n",
       "      dtype='object', name='user_id')"
      ]
     },
     "metadata": {},
     "execution_count": 123
    }
   ],
   "source": [
    "mini_triplets.index"
   ]
  },
  {
   "cell_type": "code",
   "execution_count": 124,
   "metadata": {},
   "outputs": [
    {
     "output_type": "execute_result",
     "data": {
      "text/plain": [
       "{'b80344d063b5ccb3212f76538f3d9e43d87dca9e': 93,\n",
       " '85c1f87fea955d09b4bec2e36aee110927aedf9a': 98}"
      ]
     },
     "metadata": {},
     "execution_count": 124
    }
   ],
   "source": [
    "{user_id: index[0] for index, user_id in np.ndenumerate(mini_triplets.index)}"
   ]
  },
  {
   "cell_type": "code",
   "execution_count": 114,
   "metadata": {},
   "outputs": [
    {
     "output_type": "execute_result",
     "data": {
      "text/plain": [
       "numpy.ndarray"
      ]
     },
     "metadata": {},
     "execution_count": 114
    }
   ],
   "source": [
    "type(mini_triplets.song_id.unique())"
   ]
  },
  {
   "cell_type": "code",
   "execution_count": 120,
   "metadata": {},
   "outputs": [
    {
     "output_type": "execute_result",
     "data": {
      "text/plain": [
       "0     SOGPCJI12A8C13CCA0\n",
       "1     SOSDCFG12AB0184647\n",
       "2     SOBARPM12A8C133DFF\n",
       "3     SOKOVRQ12A8C142811\n",
       "4     SOIMMJJ12AF72AD643\n",
       "             ...        \n",
       "94    SOUYAAO12A58A77683\n",
       "95    SODAJTJ12AB0185735\n",
       "96    SOARHKB12AB0189EEA\n",
       "97    SOMKACM12A8C13FE16\n",
       "98    SOVGHLF12A58A7DE10\n",
       "Name: song_id, Length: 99, dtype: object"
      ]
     },
     "metadata": {},
     "execution_count": 120
    }
   ],
   "source": [
    "(pd.read_csv(\"mini_track_data.csv\")\n",
    "  .song_id)"
   ]
  },
  {
   "cell_type": "code",
   "execution_count": null,
   "metadata": {},
   "outputs": [],
   "source": []
  }
 ]
}